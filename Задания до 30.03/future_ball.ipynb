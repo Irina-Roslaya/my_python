{
 "cells": [
  {
   "cell_type": "markdown",
   "metadata": {},
   "source": [
    "Волшебный шар. Напишите программу, которая моделирует игрушку, предсказывающую будущее: дает случайный ответ на общий вопрос, требующий ответа \"да\" или \"нет\".  \n",
    "Программа должна предложить пользователю задать вопрос и затем показать один из ответов, ото­бранных из файла случайным образом. Программа должна продолжать работу до тех пор, пока пользователь не будет готов из нее выйти. "
   ]
  },
  {
   "cell_type": "code",
   "execution_count": 25,
   "metadata": {},
   "outputs": [
    {
     "name": "stdout",
     "output_type": "stream",
     "text": [
      "Волшебный шар \n",
      " 1. Задать вопрос \n",
      " 2. Выход\n"
     ]
    },
    {
     "name": "stdin",
     "output_type": "stream",
     "text": [
      "Укажите число:  1\n",
      "Сформулируйте вопрос:  Я когда-нибудь закончу это дз?\n"
     ]
    },
    {
     "name": "stdout",
     "output_type": "stream",
     "text": [
      "Вне всяких сомнений, да!\n",
      "Волшебный шар \n",
      " 1. Задать вопрос \n",
      " 2. Выход\n"
     ]
    },
    {
     "name": "stdin",
     "output_type": "stream",
     "text": [
      "Укажите число:  1\n",
      "Сформулируйте вопрос:  Завтра будет нормальный день?\n"
     ]
    },
    {
     "name": "stdout",
     "output_type": "stream",
     "text": [
      "Вне всяких сомнений, да!\n",
      "Волшебный шар \n",
      " 1. Задать вопрос \n",
      " 2. Выход\n"
     ]
    },
    {
     "name": "stdin",
     "output_type": "stream",
     "text": [
      "Укажите число:  1\n",
      "Сформулируйте вопрос:  А ты вообще можешь как-то по-другому отвечать?\n"
     ]
    },
    {
     "name": "stdout",
     "output_type": "stream",
     "text": [
      "Расскажу после отдыха.\n",
      "Волшебный шар \n",
      " 1. Задать вопрос \n",
      " 2. Выход\n"
     ]
    },
    {
     "name": "stdin",
     "output_type": "stream",
     "text": [
      "Укажите число:  1\n",
      "Сформулируйте вопрос:  Отлично, значит на этом моя работа над заданием завершена?\n"
     ]
    },
    {
     "name": "stdout",
     "output_type": "stream",
     "text": [
      "Никаких шансов.\n",
      "Волшебный шар \n",
      " 1. Задать вопрос \n",
      " 2. Выход\n"
     ]
    },
    {
     "name": "stdin",
     "output_type": "stream",
     "text": [
      "Укажите число:  1\n",
      "Сформулируйте вопрос:  :(\n"
     ]
    },
    {
     "name": "stdout",
     "output_type": "stream",
     "text": [
      "Не уверен.\n",
      "Волшебный шар \n",
      " 1. Задать вопрос \n",
      " 2. Выход\n"
     ]
    },
    {
     "name": "stdin",
     "output_type": "stream",
     "text": [
      "Укажите число:  1\n",
      "Сформулируйте вопрос:  Можно я пойду?\n"
     ]
    },
    {
     "name": "stdout",
     "output_type": "stream",
     "text": [
      "Не думаю, что будет так.\n",
      "Волшебный шар \n",
      " 1. Задать вопрос \n",
      " 2. Выход\n"
     ]
    },
    {
     "name": "stdin",
     "output_type": "stream",
     "text": [
      "Укажите число:  1\n",
      "Сформулируйте вопрос:  А я все равно пойду\n"
     ]
    },
    {
     "name": "stdout",
     "output_type": "stream",
     "text": [
      "Можно рассчитывать, что да.\n",
      "Волшебный шар \n",
      " 1. Задать вопрос \n",
      " 2. Выход\n"
     ]
    },
    {
     "name": "stdin",
     "output_type": "stream",
     "text": [
      "Укажите число:  2\n"
     ]
    },
    {
     "name": "stdout",
     "output_type": "stream",
     "text": [
      "До скорой встречи!\n"
     ]
    }
   ],
   "source": [
    "import csv   \n",
    "import random\n",
    "while True:\n",
    "    print(\"Волшебный шар\" , '\\n' , \"1. Задать вопрос\" , '\\n' ,\"2. Выход\")\n",
    "    inp=int(input(\"Укажите число: \"))\n",
    "    if inp==1:\n",
    "        point=input('Сформулируйте вопрос: ')\n",
    "        with open(\"responses.txt\",'r',encoding='utf8') as file:\n",
    "            new = csv.reader(file)\n",
    "            for row in new:\n",
    "                slots.append(row)\n",
    "            print(','.join(random.choice(slots)))\n",
    "    if inp == 2:\n",
    "        print('До скорой встречи!')\n",
    "        break"
   ]
  },
  {
   "cell_type": "code",
   "execution_count": null,
   "metadata": {},
   "outputs": [],
   "source": []
  }
 ],
 "metadata": {
  "kernelspec": {
   "display_name": "Python 3",
   "language": "python",
   "name": "python3"
  },
  "language_info": {
   "codemirror_mode": {
    "name": "ipython",
    "version": 3
   },
   "file_extension": ".py",
   "mimetype": "text/x-python",
   "name": "python",
   "nbconvert_exporter": "python",
   "pygments_lexer": "ipython3",
   "version": "3.7.4"
  }
 },
 "nbformat": 4,
 "nbformat_minor": 4
}
