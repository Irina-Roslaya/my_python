{
 "cells": [
  {
   "cell_type": "markdown",
   "metadata": {},
   "source": [
    "Напишите программу для добавления задач (todo list). Для каждой из задач можно задать категорию и срок ее исполнения. Добавить возможность вывода списка задач. Внимание! Список задач хранится в файле формата json. При запуске программы производится чтение содержимого json-файла. Пример хранения задач: 10/ tasks.json За основу можно взять результат выполнения упражнения 9.3. Пример выполнения программы: 10/ todo.log (ответ в виде файла: my_tasks_json.py)"
   ]
  },
  {
   "cell_type": "code",
   "execution_count": 3,
   "metadata": {},
   "outputs": [
    {
     "name": "stdout",
     "output_type": "stream",
     "text": [
      "Простой todo: \n",
      " 1. Добавить задачу. \n",
      " 2. Вывести список задач. \n",
      " 3. Выход.\n"
     ]
    },
    {
     "name": "stdin",
     "output_type": "stream",
     "text": [
      "Укажите число:  1\n"
     ]
    },
    {
     "name": "stdout",
     "output_type": "stream",
     "text": [
      "Сформулируйте задачу: cat1\n",
      "Добавьте категорию к задаче: task1\n",
      "Добавьте время к задаче: 222\n",
      "Простой todo: \n",
      " 1. Добавить задачу. \n",
      " 2. Вывести список задач. \n",
      " 3. Выход.\n"
     ]
    },
    {
     "name": "stdin",
     "output_type": "stream",
     "text": [
      "Укажите число:  2\n"
     ]
    },
    {
     "name": "stdout",
     "output_type": "stream",
     "text": [
      "Задача: cat1 Категория: task1 Дата: 222 \n",
      "Простой todo: \n",
      " 1. Добавить задачу. \n",
      " 2. Вывести список задач. \n",
      " 3. Выход.\n"
     ]
    },
    {
     "name": "stdin",
     "output_type": "stream",
     "text": [
      "Укажите число:  1\n"
     ]
    },
    {
     "name": "stdout",
     "output_type": "stream",
     "text": [
      "Сформулируйте задачу: cat2\n",
      "Добавьте категорию к задаче: task2\n",
      "Добавьте время к задаче: 444\n",
      "Простой todo: \n",
      " 1. Добавить задачу. \n",
      " 2. Вывести список задач. \n",
      " 3. Выход.\n"
     ]
    },
    {
     "name": "stdin",
     "output_type": "stream",
     "text": [
      "Укажите число:  2\n"
     ]
    },
    {
     "name": "stdout",
     "output_type": "stream",
     "text": [
      "Задача: cat1 Категория: task1 Дата: 222 Задача: cat2 Категория: task2 Дата: 444 \n",
      "Простой todo: \n",
      " 1. Добавить задачу. \n",
      " 2. Вывести список задач. \n",
      " 3. Выход.\n"
     ]
    },
    {
     "name": "stdin",
     "output_type": "stream",
     "text": [
      "Укажите число:  3\n"
     ]
    },
    {
     "name": "stdout",
     "output_type": "stream",
     "text": [
      "Ваши задачи сохранены\n"
     ]
    }
   ],
   "source": [
    "import json    \n",
    "try:\n",
    "    with open(\"tasks.json\") as f_obj:\n",
    "        numbers = json.load(f_obj)\n",
    "    listt=[]\n",
    "    while True:\n",
    "        print(\"Простой todo:\" , '\\n' , \"1. Добавить задачу.\" , '\\n' , \"2. Вывести список задач.\" , '\\n' , \"3. Выход.\")\n",
    "        inp=int(input(\"Укажите число: \"))\n",
    "        if inp==1:\n",
    "            memo=f'Сформулируйте задачу: {list(numbers[0].values())[0]}'\n",
    "            defen=f'Добавьте категорию к задаче: {list(numbers[0].values())[1]}'\n",
    "            time=f'Добавьте время к задаче: {list(numbers[0].values())[2]}'\n",
    "            del numbers[0]  \n",
    "            listt.append(f'Задача: {memo.split()[2]} ')\n",
    "            listt.append(f'Категория: {defen.split()[4]} ')\n",
    "            listt.append(f'Дата: {time.split()[4]} ')\n",
    "            print(f'{memo}\\n{defen}\\n{time}')\n",
    "        if inp==2:\n",
    "            print(''.join(listt))\n",
    "        if inp == 3:\n",
    "            print('Ваши задачи сохранены')\n",
    "            break\n",
    "except Exception as e:\n",
    "    print(e)"
   ]
  },
  {
   "cell_type": "code",
   "execution_count": null,
   "metadata": {},
   "outputs": [],
   "source": []
  }
 ],
 "metadata": {
  "kernelspec": {
   "display_name": "Python 3",
   "language": "python",
   "name": "python3"
  },
  "language_info": {
   "codemirror_mode": {
    "name": "ipython",
    "version": 3
   },
   "file_extension": ".py",
   "mimetype": "text/x-python",
   "name": "python",
   "nbconvert_exporter": "python",
   "pygments_lexer": "ipython3",
   "version": "3.7.4"
  }
 },
 "nbformat": 4,
 "nbformat_minor": 4
}
