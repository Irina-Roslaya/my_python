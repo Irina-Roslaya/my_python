{
 "cells": [
  {
   "cell_type": "markdown",
   "metadata": {},
   "source": [
    "Шифрование и дешифрование файлов. \n",
    "Напишите программу, которая применяет сло­варь для присвоения \"кодов\" каждой букве алфавита. Например: \n",
    "codes = {\"А\" : \"%\" , \"а\" : \"9\" , \"Б\" : \"@\", \"6\" : \"#\",... }\n",
    "Здесь букве А присвоен символ %, букве а - число 9, букве Б -\n",
    "символ @ и т. д. Про­грамма должна открыть заданный текстовый файл, прочитать его содержимое и приме­нить словарь для записи зашифрованной версии содержимого файла во второй файл.\n",
    "Каждый символ во втором файле должен содержать код для соответствующего символа из первого файла.\n",
    "Напишите вторую программу, которая открывает зашифрованный файл и показывает его дешифрованное содержимое на экране.\n",
    "(ответ в виде файла: shifr.py)"
   ]
  },
  {
   "cell_type": "code",
   "execution_count": 39,
   "metadata": {},
   "outputs": [],
   "source": [
    "import csv\n",
    "\n",
    "try:\n",
    "    codes = {\"А\" : \"%\" , \"а\" : \"9\" , \"Б\" : \"@\", \"6\" : \"#\",\"Я\":\"№\",\"я\":\"+\"}\n",
    "    with open(\"file_for_code.txt\",'r',encoding='utf8') as file:\n",
    "        new = csv.reader(file)\n",
    "        for row in new:\n",
    "            l=','.join(row)\n",
    "            for i in row:\n",
    "                for j in range(len(i)):\n",
    "                    if i[j] in list(codes.keys()):\n",
    "                        m=codes.get(i[j]) \n",
    "                        l=l.replace(i[j],m)\n",
    "    with open(\"file_for_done_code.txt\",'w',encoding='utf8') as output_file:\n",
    "        print(l,file=output_file)\n",
    "except FileNotFoundError:\n",
    "            print(\"Несуществующий файл\")\n"
   ]
  },
  {
   "cell_type": "code",
   "execution_count": 58,
   "metadata": {},
   "outputs": [],
   "source": [
    "import csv\n",
    "\n",
    "try:\n",
    "    codes = {\"А\" : \"%\" , \"а\" : \"9\" , \"Б\" : \"@\", \"6\" : \"#\",\"Я\":\"№\",\"я\":\"+\"}\n",
    "    with open(\"file_for_done_code2.txt\",'r',encoding='utf8') as file:\n",
    "        new = csv.reader(file)\n",
    "        for row in new:\n",
    "            l=','.join(row)\n",
    "            for i in row:\n",
    "                for j in range(len(i)):\n",
    "                    if i[j] in list(codes.values()):\n",
    "                        for key, value in codes.items():\n",
    "                            if i[j] == value:\n",
    "                                m=key\n",
    "                        l=l.replace(i[j],m)\n",
    "    with open(\"file_for_code2.txt\",'w',encoding='utf8') as output_file:\n",
    "        print(l,file=output_file)\n",
    "except FileNotFoundError:\n",
    "            print(\"Несуществующий файл\")\n"
   ]
  },
  {
   "cell_type": "code",
   "execution_count": 53,
   "metadata": {},
   "outputs": [],
   "source": []
  }
 ],
 "metadata": {
  "kernelspec": {
   "display_name": "Python 3",
   "language": "python",
   "name": "python3"
  },
  "language_info": {
   "codemirror_mode": {
    "name": "ipython",
    "version": 3
   },
   "file_extension": ".py",
   "mimetype": "text/x-python",
   "name": "python",
   "nbconvert_exporter": "python",
   "pygments_lexer": "ipython3",
   "version": "3.7.4"
  }
 },
 "nbformat": 4,
 "nbformat_minor": 4
}
