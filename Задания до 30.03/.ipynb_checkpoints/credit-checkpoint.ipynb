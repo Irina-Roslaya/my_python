{
 "cells": [
  {
   "cell_type": "markdown",
   "metadata": {},
   "source": [
    "На основе сведений, предоставленных Сбербанком, напишите на языке Python программу для определения региона с максимальным количеством заявок на потребительские кредиты в 2017 году."
   ]
  },
  {
   "cell_type": "code",
   "execution_count": 49,
   "metadata": {},
   "outputs": [
    {
     "name": "stdout",
     "output_type": "stream",
     "text": [
      "Регион с максимальным количеством заявок на потребительские кредиты в 2017 году:  Ярославская область\n"
     ]
    }
   ],
   "source": [
    "import csv\n",
    "\n",
    "count_sum = list()\n",
    "all_regions =list()\n",
    "all_regions_new =list()\n",
    "maxim=0\n",
    "maxim2=0\n",
    "countme=list()\n",
    "\n",
    "with open(\"opendata.stat\",'r',encoding='utf8') as file:\n",
    "        data = csv.reader(file)\n",
    "        for row in data:\n",
    "            if row[0]== 'name':\n",
    "                continue \n",
    "            else:\n",
    "                if row[0]=='Количество заявок на потребительские кредиты':\n",
    "                    if row[2].split('-')[0]=='2017':\n",
    "                        count_sum.append([row[1],int(row[3])])\n",
    "                        all_regions.append(row[1])\n",
    "for i in all_regions :\n",
    "    if i not in all_regions_new:\n",
    "        all_regions_new.append(i)\n",
    "for i in all_regions_new:\n",
    "    for j in count_sum:\n",
    "        if j[0]==i:\n",
    "            countme.append(j[1])\n",
    "    if sum(countme)>maxim:\n",
    "        maxim=sum(countme)\n",
    "        maxim2 = i\n",
    "print(\"Регион с максимальным количеством заявок на потребительские кредиты в 2017 году: \",maxim2)   "
   ]
  },
  {
   "cell_type": "code",
   "execution_count": null,
   "metadata": {},
   "outputs": [],
   "source": []
  }
 ],
 "metadata": {
  "kernelspec": {
   "display_name": "Python 3",
   "language": "python",
   "name": "python3"
  },
  "language_info": {
   "codemirror_mode": {
    "name": "ipython",
    "version": 3
   },
   "file_extension": ".py",
   "mimetype": "text/x-python",
   "name": "python",
   "nbconvert_exporter": "python",
   "pygments_lexer": "ipython3",
   "version": "3.7.4"
  }
 },
 "nbformat": 4,
 "nbformat_minor": 4
}
