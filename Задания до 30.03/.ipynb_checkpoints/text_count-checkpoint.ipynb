{
 "cells": [
  {
   "cell_type": "markdown",
   "metadata": {},
   "source": [
    "Среднее количество слов. \n",
    "В файле в каждой строке хранится одно предложение.Напишите программу, которая читает содержимое файла и вычисляет:\n",
    "среднее количество слов в расчете на предложение;\n",
    "количество букв в файле в верхнем регистре;\n",
    "количество букв в файле в нижнем регистре;\n",
    "количество цифр в файле;\n",
    "количество пробельных символов в файле."
   ]
  },
  {
   "cell_type": "code",
   "execution_count": 73,
   "metadata": {},
   "outputs": [
    {
     "name": "stdout",
     "output_type": "stream",
     "text": [
      "Среднее количество слов в расчете на предложение: 32\n",
      "Количество букв в файле в нижнем регистре:  6100\n",
      "Количество букв в файле в верхнем регистре:  183\n",
      "Количество цифр в файле:  144\n",
      "Количество пробельных символов в файле:  1225\n"
     ]
    }
   ],
   "source": [
    "import csv\n",
    "listt=[]\n",
    "liss=[]\n",
    "listt2=[]\n",
    "liss2=[]\n",
    "liss3=[]\n",
    "listt3=[]\n",
    "listt4=[]\n",
    "listt5=[]\n",
    "with open(\"text_for_10.13.txt\",'r',encoding='utf8') as file:\n",
    "    new = csv.reader(file)\n",
    "    for row in new:\n",
    "        for i in row:\n",
    "            listt.append([','.join(row)])\n",
    "listt\n",
    "for i in listt:\n",
    "    liss.append(len(\" \".join(i).split()))\n",
    "    \n",
    "print('Среднее количество слов в расчете на предложение:',round(sum(liss)/len(liss)))\n",
    "with open(\"text_for_10.13.txt\",'r',encoding='utf8') as file:\n",
    "    new = csv.reader(file)\n",
    "    for row in new:\n",
    "        for i in row:\n",
    "            listt2.append(','.join(row))\n",
    "for i in range(len(listt2)):\n",
    "    for j in range(len(listt2[i])):\n",
    "        liss2.append(listt2[i][j])\n",
    "for i in liss2:\n",
    "    if i==i.lower() and i!=' ':\n",
    "        liss3.append(i)\n",
    "print('Количество букв в файле в нижнем регистре: ',len(liss3))\n",
    "for i in liss2:\n",
    "    if i==i.upper() and i.isalpha():\n",
    "        listt3.append(i)\n",
    "print('Количество букв в файле в верхнем регистре: ',len(listt3))\n",
    "for i in liss2:\n",
    "    if i.isdigit():\n",
    "        listt4.append(i)\n",
    "print('Количество цифр в файле: ',len(listt4))\n",
    "for i in liss2:\n",
    "    if i==' ':\n",
    "        listt5.append(i)\n",
    "print('Количество пробельных символов в файле: ',len(listt5))"
   ]
  },
  {
   "cell_type": "code",
   "execution_count": null,
   "metadata": {},
   "outputs": [],
   "source": []
  }
 ],
 "metadata": {
  "kernelspec": {
   "display_name": "Python 3",
   "language": "python",
   "name": "python3"
  },
  "language_info": {
   "codemirror_mode": {
    "name": "ipython",
    "version": 3
   },
   "file_extension": ".py",
   "mimetype": "text/x-python",
   "name": "python",
   "nbconvert_exporter": "python",
   "pygments_lexer": "ipython3",
   "version": "3.7.4"
  }
 },
 "nbformat": 4,
 "nbformat_minor": 4
}
