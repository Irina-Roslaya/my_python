{
 "cells": [
  {
   "cell_type": "markdown",
   "metadata": {},
   "source": [
    "Прочитайте содержимое файла moby_clean.txt, полученного в упражнении 10.3. Используйте словарь для подсчета вхождений каждого слова, выведите первые 5 самых частых и самых редких слов.\n"
   ]
  },
  {
   "cell_type": "code",
   "execution_count": 115,
   "metadata": {},
   "outputs": [
    {
     "name": "stdout",
     "output_type": "stream",
     "text": [
      "Самые часто встречаемые слова:  и,я,на,в,это \n",
      " Самые редко встречаемые слова:  зовите,измаил,лет,неважно,долго\n"
     ]
    }
   ],
   "source": [
    "import csv\n",
    "\n",
    "all_strings = list()\n",
    "new_strings = list()\n",
    "\n",
    "with open(\"moby_clean2.txt\",'r',encoding='utf8') as file:\n",
    "    for row in file:\n",
    "        all_strings.append(row)\n",
    "    for i in all_strings:\n",
    "        new_strings.append(''.join(i.split('\\n')[:-1]))       \n",
    "def histogram(s):\n",
    "    word_count = {}\n",
    "    for word in s:\n",
    "        word_count.setdefault(word, 0) \n",
    "        word_count[word] += 1      \n",
    "    return word_count\n",
    "new=list((histogram(new_strings)).values())\n",
    "new2=list((histogram(new_strings)).keys())\n",
    "list_of_max=list()\n",
    "k=0\n",
    "while k!=5:\n",
    "    maxim = new[0]\n",
    "    maxim_word= new2[0]\n",
    "    for i in enumerate(new):\n",
    "        if new[i[0]]> maxim:\n",
    "            maxim=new[i[0]]\n",
    "            maxim_word=new2[i[0]]\n",
    "    list_of_max.append(maxim_word)\n",
    "    k+=1\n",
    "    new.remove(maxim)\n",
    "    new2.remove(maxim_word)\n",
    "list_of_min = list()\n",
    "minim = 1\n",
    "for i in enumerate(new):\n",
    "    if new[i[0]]== minim:\n",
    "        minim=new[i[0]]\n",
    "        minim_word=new2[i[0]]       \n",
    "        list_of_min.append(minim_word)\n",
    "        new.remove(minim)\n",
    "        new2.remove(minim_word)\n",
    "list_of_min=list_of_min[0:5]\n",
    "print(\"Самые часто встречаемые слова: \",','.join(list_of_max),'\\n' ,\"Самые редко встречаемые слова: \",','.join(list_of_min))"
   ]
  }
 ],
 "metadata": {
  "kernelspec": {
   "display_name": "Python 3",
   "language": "python",
   "name": "python3"
  },
  "language_info": {
   "codemirror_mode": {
    "name": "ipython",
    "version": 3
   },
   "file_extension": ".py",
   "mimetype": "text/x-python",
   "name": "python",
   "nbconvert_exporter": "python",
   "pygments_lexer": "ipython3",
   "version": "3.7.4"
  }
 },
 "nbformat": 4,
 "nbformat_minor": 4
}
