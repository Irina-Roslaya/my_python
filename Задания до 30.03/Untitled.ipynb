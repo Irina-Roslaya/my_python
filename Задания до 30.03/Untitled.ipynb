{
 "cells": [
  {
   "cell_type": "markdown",
   "metadata": {},
   "source": [
    "Среднее количество слов. \n",
    "В файле в каждой строке хранится одно предложение.Напишите программу, которая читает содержимое файла и вычисляет:\n",
    "среднее количество слов в расчете на предложение;\n",
    "количество букв в файле в верхнем регистре;\n",
    "количество букв в файле в нижнем регистре;\n",
    "количество цифр в файле;\n",
    "количество пробельных символов в файле."
   ]
  },
  {
   "cell_type": "code",
   "execution_count": null,
   "metadata": {},
   "outputs": [],
   "source": []
  }
 ],
 "metadata": {
  "kernelspec": {
   "display_name": "Python 3",
   "language": "python",
   "name": "python3"
  },
  "language_info": {
   "codemirror_mode": {
    "name": "ipython",
    "version": 3
   },
   "file_extension": ".py",
   "mimetype": "text/x-python",
   "name": "python",
   "nbconvert_exporter": "python",
   "pygments_lexer": "ipython3",
   "version": "3.7.4"
  }
 },
 "nbformat": 4,
 "nbformat_minor": 4
}
