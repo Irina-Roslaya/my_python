{
 "cells": [
  {
   "cell_type": "markdown",
   "metadata": {},
   "source": [
    "Напишите функцию для записи файлов, разделенных запятыми (формат CSV). \n",
    "Функция должна получать через параметры имя файла и список кортежей. Кортежи должны содержать name, address и age. \n",
    "В итоговом файле должна появиться первая строка заголовка, за которой следует строка для каждого кортежа. \n",
    "Если функции будет передан следующий список кортежей:\n",
    "\n",
    "[(‘Георгий’, ‘Невский проспект’, ’22’), (‘Иван’, ‘пр. Ветеранов’, ’21’)] \n",
    "\n",
    "в файл должны быть записаны следующие данные:\n",
    "\n",
    "name,address,age\n",
    "Георгий,Невский проспект,22\n",
    "Иван,пр. Ветеранов,21\n",
    "\n",
    "Обработайте возможные ошибки при работе с файлами. \n",
    "\n",
    "(ответ в виде файла: create_csv_from_list.py)\n",
    "\n"
   ]
  },
  {
   "cell_type": "code",
   "execution_count": 74,
   "metadata": {},
   "outputs": [],
   "source": [
    "def create_csv_from(file,list_):\n",
    "    try:\n",
    "        import csv\n",
    "        with open(file, 'w', encoding='cp1251') as output_file:\n",
    "            print('name,address,age',file=output_file)\n",
    "            for i in list_:\n",
    "                output_file.write(f'{i[0]},{i[1]},{i[2]}\\n')\n",
    "    except IndexError:\n",
    "        print('Что-то пошло не так')"
   ]
  },
  {
   "cell_type": "code",
   "execution_count": 75,
   "metadata": {},
   "outputs": [],
   "source": [
    "create_csv_from(\"file.stat\",[('Георгий', 'Невский проспект', '22'), ('Иван', 'пр.Ветеранов', '21')])"
   ]
  },
  {
   "cell_type": "code",
   "execution_count": 76,
   "metadata": {},
   "outputs": [
    {
     "name": "stdout",
     "output_type": "stream",
     "text": [
      "Что-то пошло не так\n"
     ]
    }
   ],
   "source": [
    "create_csv_from(\"file.stat\",['Георгий', 'Невский проспект', '22', 'Иван', 'пр.Ветеранов', '21'])"
   ]
  },
  {
   "cell_type": "code",
   "execution_count": 77,
   "metadata": {},
   "outputs": [
    {
     "name": "stdout",
     "output_type": "stream",
     "text": [
      "Что-то пошло не так\n"
     ]
    }
   ],
   "source": [
    "create_csv_from(\"file.stat\",[('Георгий', 'Невский проспект', '22'), ('Иван', 'пр.Ветеранов')])"
   ]
  },
  {
   "cell_type": "code",
   "execution_count": null,
   "metadata": {},
   "outputs": [],
   "source": []
  }
 ],
 "metadata": {
  "kernelspec": {
   "display_name": "Python 3",
   "language": "python",
   "name": "python3"
  },
  "language_info": {
   "codemirror_mode": {
    "name": "ipython",
    "version": 3
   },
   "file_extension": ".py",
   "mimetype": "text/x-python",
   "name": "python",
   "nbconvert_exporter": "python",
   "pygments_lexer": "ipython3",
   "version": "3.7.4"
  }
 },
 "nbformat": 4,
 "nbformat_minor": 4
}
