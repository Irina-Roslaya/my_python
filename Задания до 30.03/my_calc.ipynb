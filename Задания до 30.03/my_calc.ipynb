{
 "cells": [
  {
   "cell_type": "markdown",
   "metadata": {},
   "source": [
    "Напишите программу, выполняющую функции простейшего калькулятора. Программа получает два числа, а затем запрашивает оператор. Обеспечьте корректную обработку ввода, который не преобразуется в числа. Обработайте ошибки деления на ноль.\n"
   ]
  },
  {
   "cell_type": "code",
   "execution_count": 38,
   "metadata": {},
   "outputs": [
    {
     "name": "stdin",
     "output_type": "stream",
     "text": [
      "Введите первое число:  2\n",
      "Введите второе число:  3\n",
      "Введите оператор (+,-,*,/):  -\n"
     ]
    },
    {
     "name": "stdout",
     "output_type": "stream",
     "text": [
      "-1.0\n"
     ]
    }
   ],
   "source": [
    "x=input(\"Введите первое число: \")\n",
    "y=input(\"Введите второе число: \")\n",
    "while True:\n",
    "    try:\n",
    "        new1 = float(x)\n",
    "        new2 = float(y)\n",
    "        s = input(\"Введите оператор (+,-,*,/): \")\n",
    "        if s in ('+','-','*','/'):\n",
    "            if s == '+':\n",
    "                print((new1+new2))\n",
    "            elif s == '-':\n",
    "                print((new1-new2))\n",
    "            elif s == '*':\n",
    "                print((new1*new2))\n",
    "            elif s == '/':\n",
    "                try:\n",
    "                    print((new1/new2))\n",
    "                except ZeroDivisionError:\n",
    "                    print(\"Ошибка деления на ноль!\")\n",
    "        else:\n",
    "            print(\"Неверный знак операции!\")\n",
    "        break\n",
    "    except ValueError:\n",
    "            print(\"Ошибка преобразования типов\")\n",
    "            break\n"
   ]
  },
  {
   "cell_type": "code",
   "execution_count": null,
   "metadata": {},
   "outputs": [],
   "source": []
  }
 ],
 "metadata": {
  "kernelspec": {
   "display_name": "Python 3",
   "language": "python",
   "name": "python3"
  },
  "language_info": {
   "codemirror_mode": {
    "name": "ipython",
    "version": 3
   },
   "file_extension": ".py",
   "mimetype": "text/x-python",
   "name": "python",
   "nbconvert_exporter": "python",
   "pygments_lexer": "ipython3",
   "version": "3.7.4"
  }
 },
 "nbformat": 4,
 "nbformat_minor": 4
}
