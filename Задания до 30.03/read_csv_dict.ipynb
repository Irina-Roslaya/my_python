{
 "cells": [
  {
   "cell_type": "markdown",
   "metadata": {},
   "source": [
    "Напишите функцию для чтения CSV-файлов. \n",
    "В качестве входного аргумента функция принимает имя файла в формате CSV.\n",
    "Функция должна возвращать список словарей, интерпретируя первую строку файла как имена ключей, а каждую последующую строку как значения этих ключей. \n",
    "будет возвращен следующий результат:\n",
    "[{'name': 'Георгий', 'age': '22', 'address': 'Невский проспект'}, {'name': 'Иван', 'age': '21', 'address': 'пр. Ветеранов'}]\n",
    "Обработайте возможные ошибки при работе с файлами. \n"
   ]
  },
  {
   "cell_type": "code",
   "execution_count": 90,
   "metadata": {},
   "outputs": [],
   "source": [
    "def new_func(file):\n",
    "    try:\n",
    "        try:\n",
    "            import csv\n",
    "            newdict=[]\n",
    "            newdict1=[]\n",
    "            with open(file,'r',encoding='utf8') as file:\n",
    "                for row in file:\n",
    "                    newdict.append(row)\n",
    "            newdict=[line.rstrip() for line in newdict]\n",
    "            for i in newdict:\n",
    "                newdict1.append(i.split(\",\"))\n",
    "            dictList=[]\n",
    "            try:\n",
    "                for i in range(1,len(newdict1)):\n",
    "                    dictList.append(dict([[newdict1[0][0],newdict1[i][0]],[newdict1[0][1],newdict1[i][1]],[newdict1[0][2],newdict1[i][2]]]))\n",
    "                print(dictList)\n",
    "            except IndexError:\n",
    "                print(\"С файлом что-то не так\")\n",
    "        except FileNotFoundError:\n",
    "            print(\"Несуществующий файл\")\n",
    "    except TypeError:\n",
    "        print(\"Введите имя файла!\")"
   ]
  },
  {
   "cell_type": "code",
   "execution_count": 91,
   "metadata": {},
   "outputs": [
    {
     "name": "stdout",
     "output_type": "stream",
     "text": [
      "[{'name': 'Георгий', 'address': 'Невский проспект', 'age': '22'}, {'name': 'Иван', 'address': 'пр.Ветеранов', 'age': '21'}]\n"
     ]
    }
   ],
   "source": [
    "new_func(\"file_for_10_7.txt\")"
   ]
  },
  {
   "cell_type": "code",
   "execution_count": 92,
   "metadata": {},
   "outputs": [
    {
     "name": "stdout",
     "output_type": "stream",
     "text": [
      "С файлом что-то не так\n"
     ]
    }
   ],
   "source": [
    "new_func(\"example.txt\")"
   ]
  },
  {
   "cell_type": "code",
   "execution_count": 93,
   "metadata": {},
   "outputs": [
    {
     "name": "stdout",
     "output_type": "stream",
     "text": [
      "Несуществующий файл\n"
     ]
    }
   ],
   "source": [
    "new_func(\"777.txt\")"
   ]
  },
  {
   "cell_type": "code",
   "execution_count": null,
   "metadata": {},
   "outputs": [],
   "source": []
  }
 ],
 "metadata": {
  "kernelspec": {
   "display_name": "Python 3",
   "language": "python",
   "name": "python3"
  },
  "language_info": {
   "codemirror_mode": {
    "name": "ipython",
    "version": 3
   },
   "file_extension": ".py",
   "mimetype": "text/x-python",
   "name": "python",
   "nbconvert_exporter": "python",
   "pygments_lexer": "ipython3",
   "version": "3.7.4"
  }
 },
 "nbformat": 4,
 "nbformat_minor": 4
}
