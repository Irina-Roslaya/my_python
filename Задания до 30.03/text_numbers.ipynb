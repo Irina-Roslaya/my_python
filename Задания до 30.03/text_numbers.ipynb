{
 "cells": [
  {
   "cell_type": "markdown",
   "metadata": {},
   "source": [
    "Напишите функцию, которая вставляет нумерацию перед строками текстового файла. В функцию необходимо передать имя входного текстового файла и имя выходного текстового файла. \n"
   ]
  },
  {
   "cell_type": "code",
   "execution_count": 118,
   "metadata": {},
   "outputs": [],
   "source": [
    "def my_func(file1,file2):\n",
    "    try:\n",
    "        import csv\n",
    "        new=list()\n",
    "\n",
    "        with open(file1,'r',encoding='utf8') as file:\n",
    "                text = csv.reader(file)\n",
    "                for i in text:\n",
    "                    new.append(i[0])\n",
    "        with open(file2, 'w', encoding='cp1251') as output_file:\n",
    "                for i,j in enumerate(new,1):\n",
    "                    print(i,j,file=output_file)\n",
    "    except FileNotFoundError :\n",
    "            print(f'Файла {file1} не существует')\n",
    "           \n",
    "   \n",
    "\n"
   ]
  },
  {
   "cell_type": "code",
   "execution_count": 119,
   "metadata": {},
   "outputs": [],
   "source": [
    "my_func(\"text.txt\",\"update_.txt\")"
   ]
  },
  {
   "cell_type": "code",
   "execution_count": 120,
   "metadata": {},
   "outputs": [
    {
     "name": "stdout",
     "output_type": "stream",
     "text": [
      "Файла text1.txt не существует\n"
     ]
    }
   ],
   "source": [
    "my_func(\"text1.txt\",\"update_.txt\")"
   ]
  },
  {
   "cell_type": "code",
   "execution_count": null,
   "metadata": {},
   "outputs": [],
   "source": []
  }
 ],
 "metadata": {
  "kernelspec": {
   "display_name": "Python 3",
   "language": "python",
   "name": "python3"
  },
  "language_info": {
   "codemirror_mode": {
    "name": "ipython",
    "version": 3
   },
   "file_extension": ".py",
   "mimetype": "text/x-python",
   "name": "python",
   "nbconvert_exporter": "python",
   "pygments_lexer": "ipython3",
   "version": "3.7.4"
  }
 },
 "nbformat": 4,
 "nbformat_minor": 4
}
