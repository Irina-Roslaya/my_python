{
 "cells": [
  {
   "cell_type": "markdown",
   "metadata": {},
   "source": [
    "Напиши программу для очистки и нормализации первой главы ‘Моби Дика’\n",
    "Все символы должны относиться к одному регистру. \n",
    "Удалить все знаки препинания.\n",
    "Записать слова по одному на строку во второй файл с именем moby_clean.txt \n"
   ]
  },
  {
   "cell_type": "code",
   "execution_count": 79,
   "metadata": {},
   "outputs": [],
   "source": [
    "import csv\n",
    "import string\n",
    "all_strings = list()\n",
    "\n",
    "with open(\"moby.txt\",'r',encoding='utf8') as file:\n",
    "    for row in file:\n",
    "        all_strings.append(row)\n",
    "new_list =[s.translate(str.maketrans(dict.fromkeys(string.punctuation))) for s in all_strings ]\n",
    "new_text = [i.lower() for i in new_list]\n",
    "with open(\"moby_clean.txt\", 'w', encoding='cp1251') as output_file:\n",
    "    for i in new_text:\n",
    "        for j in i.split():\n",
    "            print(j, file=output_file)"
   ]
  },
  {
   "cell_type": "code",
   "execution_count": null,
   "metadata": {},
   "outputs": [],
   "source": []
  }
 ],
 "metadata": {
  "kernelspec": {
   "display_name": "Python 3",
   "language": "python",
   "name": "python3"
  },
  "language_info": {
   "codemirror_mode": {
    "name": "ipython",
    "version": 3
   },
   "file_extension": ".py",
   "mimetype": "text/x-python",
   "name": "python",
   "nbconvert_exporter": "python",
   "pygments_lexer": "ipython3",
   "version": "3.7.4"
  }
 },
 "nbformat": 4,
 "nbformat_minor": 4
}
