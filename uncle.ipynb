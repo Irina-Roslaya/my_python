{
 "cells": [
  {
   "cell_type": "code",
   "execution_count": 16,
   "metadata": {},
   "outputs": [],
   "source": [
    "s  =  \"Мой дядя самых честных правил, \\\n",
    "Когда не в шутку занемог, \\\n",
    "Он уважать себя заставил \\\n",
    "И лучше выдумать не мог \""
   ]
  },
  {
   "cell_type": "code",
   "execution_count": 17,
   "metadata": {},
   "outputs": [
    {
     "name": "stdout",
     "output_type": "stream",
     "text": [
      "дядя самых честных правил, Когда не в шутку занемог, Он уважать себя заставил И лучше выдумать не\n"
     ]
    }
   ],
   "source": [
    "l=' '.join([i for i in s.split() if not i.startswith('м') if not i.startswith('М') ])\n",
    "print(l)"
   ]
  },
  {
   "cell_type": "code",
   "execution_count": null,
   "metadata": {},
   "outputs": [],
   "source": []
  }
 ],
 "metadata": {
  "kernelspec": {
   "display_name": "",
   "name": ""
  },
  "language_info": {
   "codemirror_mode": {
    "name": "ipython",
    "version": 3
   },
   "file_extension": ".py",
   "mimetype": "text/x-python",
   "name": "python",
   "nbconvert_exporter": "python",
   "pygments_lexer": "ipython3",
   "version": "3.7.4"
  }
 },
 "nbformat": 4,
 "nbformat_minor": 4
}
