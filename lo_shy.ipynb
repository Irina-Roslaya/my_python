{
 "cells": [
  {
   "cell_type": "code",
   "execution_count": 62,
   "metadata": {},
   "outputs": [
    {
     "name": "stdin",
     "output_type": "stream",
     "text": [
      "Введите 9 произвольных чисел: 4,9,2,3,5,7,8,1,6\n"
     ]
    }
   ],
   "source": [
    "intt= input('Введите 9 произвольных чисел:')\n",
    "#[[4,9,2],[3,5,7],[8,1,6]]-Ло Шу"
   ]
  },
  {
   "cell_type": "code",
   "execution_count": 63,
   "metadata": {},
   "outputs": [],
   "source": [
    "inttt=intt.split(\",\")"
   ]
  },
  {
   "cell_type": "code",
   "execution_count": 64,
   "metadata": {},
   "outputs": [
    {
     "name": "stdout",
     "output_type": "stream",
     "text": [
      "[4, 9, 2, 3, 5, 7, 8, 1, 6]\n"
     ]
    }
   ],
   "source": [
    "ll=list(map(int,inttt))\n",
    "print(ll)"
   ]
  },
  {
   "cell_type": "code",
   "execution_count": 65,
   "metadata": {},
   "outputs": [
    {
     "name": "stdout",
     "output_type": "stream",
     "text": [
      "Введеная вами матрица -магический квадрат Ло Шу!\n"
     ]
    }
   ],
   "source": [
    "if [i for i in range(1,10)]==sorted(ll):\n",
    "    lst=[[ll[i] for i in range(3)],[ll[i] for i in range(3,6)],[ll[i] for i in range(6,9)]]\n",
    "    sum1=0\n",
    "    for i in range(0,3):\n",
    "        sum1+=lst[i][0]\n",
    "    sum2=0\n",
    "    for i in range(0,3):\n",
    "        sum2+=lst[i][1]\n",
    "    sum3=0\n",
    "    for i in range(0,3):\n",
    "        sum3+=lst[i][2]\n",
    "    sum4=0\n",
    "    for i in range(0,3):\n",
    "        sum4+=lst[i][i]\n",
    "    sum5=0\n",
    "    for i in range(0,3):\n",
    "        sum5+=lst[i][2-i]\n",
    "    sum6=0\n",
    "    for i in range(0,3):\n",
    "        sum6+=lst[0][i]\n",
    "    sum7=0\n",
    "    for i in range(0,3):\n",
    "        sum7+=lst[1][i]\n",
    "    sum8=0\n",
    "    for i in range(0,3):\n",
    "        sum8+=lst[2][i]\n",
    "    if sum1==sum2==sum3==sum4==sum5==sum6==sum7==sum8==15:\n",
    "        print('Введеная вами матрица -магический квадрат Ло Шу!')\n",
    "    else:\n",
    "        print('Обычная матрица')\n",
    "else:\n",
    "    print('Обычная матрица')\n",
    "    \n",
    "\n",
    "    "
   ]
  },
  {
   "cell_type": "code",
   "execution_count": null,
   "metadata": {},
   "outputs": [],
   "source": []
  }
 ],
 "metadata": {
  "kernelspec": {
   "display_name": "Python 3",
   "language": "python",
   "name": "python3"
  },
  "language_info": {
   "codemirror_mode": {
    "name": "ipython",
    "version": 3
   },
   "file_extension": ".py",
   "mimetype": "text/x-python",
   "name": "python",
   "nbconvert_exporter": "python",
   "pygments_lexer": "ipython3",
   "version": "3.7.4"
  }
 },
 "nbformat": 4,
 "nbformat_minor": 4
}
