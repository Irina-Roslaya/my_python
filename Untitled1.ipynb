{
 "cells": [
  {
   "cell_type": "code",
   "execution_count": 4,
   "metadata": {},
   "outputs": [],
   "source": [
    "list2=[]\n",
    "newdict={}\n",
    "def save_inp(listt):\n",
    "    i=0\n",
    "    while len(list2)*3 != len(listt):\n",
    "        newdict=dict(listt[i:])\n",
    "        list2.append(newdict)\n",
    "        i+=1\n",
    "    return list2"
   ]
  },
  {
   "cell_type": "code",
   "execution_count": 5,
   "metadata": {},
   "outputs": [
    {
     "data": {
      "text/plain": [
       "[{'+111123455': 'Tom', '+384767557': 'Bob', '+958758767': 'Alice'}]"
      ]
     },
     "execution_count": 5,
     "metadata": {},
     "output_type": "execute_result"
    }
   ],
   "source": [
    "save_inp([ [\"+111123455\", \"Tom\"],\n",
    "    [\"+384767557\", \"Bob\"],\n",
    "    [\"+958758767\", \"Alice\"]])"
   ]
  },
  {
   "cell_type": "code",
   "execution_count": null,
   "metadata": {},
   "outputs": [],
   "source": []
  }
 ],
 "metadata": {
  "kernelspec": {
   "display_name": "Python 3",
   "language": "python",
   "name": "python3"
  },
  "language_info": {
   "codemirror_mode": {
    "name": "ipython",
    "version": 3
   },
   "file_extension": ".py",
   "mimetype": "text/x-python",
   "name": "python",
   "nbconvert_exporter": "python",
   "pygments_lexer": "ipython3",
   "version": "3.7.4"
  }
 },
 "nbformat": 4,
 "nbformat_minor": 4
}
