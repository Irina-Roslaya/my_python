{
 "cells": [
  {
   "cell_type": "code",
   "execution_count": 4,
   "metadata": {},
   "outputs": [
    {
     "name": "stdout",
     "output_type": "stream",
     "text": [
      "invalid literal for int() with base 10: 't'\n"
     ]
    }
   ],
   "source": [
    "try:\n",
    "    int(\"t\")\n",
    "except ValueError as err:\n",
    "    print(err)"
   ]
  },
  {
   "cell_type": "code",
   "execution_count": 5,
   "metadata": {},
   "outputs": [
    {
     "name": "stdout",
     "output_type": "stream",
     "text": [
      "Writing my_file.txt\n"
     ]
    }
   ],
   "source": [
    "%%writefile my_file.txt\n",
    "tnfdioveruhdivoebnvijjoeimsvsoinhgj\n",
    "v jrnvejkldkmvkbnjb dflke\n",
    "ernjvk"
   ]
  },
  {
   "cell_type": "code",
   "execution_count": 6,
   "metadata": {},
   "outputs": [
    {
     "data": {
      "text/plain": [
       "'tnfdioveruhdivoebnvijjoeimsvsoinhgj\\nv jrnvejkldkmvkbnjb dflke\\nernjvk\\n'"
      ]
     },
     "execution_count": 6,
     "metadata": {},
     "output_type": "execute_result"
    }
   ],
   "source": [
    "with open(\"my_file.txt\",'r') as file:\n",
    "    reader = file.read()\n",
    "reader"
   ]
  },
  {
   "cell_type": "code",
   "execution_count": 7,
   "metadata": {},
   "outputs": [
    {
     "data": {
      "text/plain": [
       "['tnfdioveruhdivoebnvijjoeimsvsoinhgj\\n',\n",
       " 'v jrnvejkldkmvkbnjb dflke\\n',\n",
       " 'ernjvk\\n']"
      ]
     },
     "execution_count": 7,
     "metadata": {},
     "output_type": "execute_result"
    }
   ],
   "source": [
    "with open(\"my_file.txt\",'r') as file:\n",
    "    reader = file.readlines()\n",
    "reader"
   ]
  },
  {
   "cell_type": "code",
   "execution_count": 8,
   "metadata": {},
   "outputs": [
    {
     "name": "stdout",
     "output_type": "stream",
     "text": [
      "35\n",
      "25\n",
      "6\n"
     ]
    }
   ],
   "source": [
    "for line in reader:\n",
    "    print(len(line.strip()))"
   ]
  },
  {
   "cell_type": "code",
   "execution_count": 10,
   "metadata": {},
   "outputs": [
    {
     "name": "stdout",
     "output_type": "stream",
     "text": [
      "tnfdioveruhdivoebnvijjoeimsvsoinhgj\n",
      "v jrnvejkldkmvkbnjb dflke\n",
      "ernjvk\n"
     ]
    }
   ],
   "source": [
    "with open(\"my_file.txt\",'r')  as file:\n",
    "    for line in file:\n",
    "        print(line.strip())"
   ]
  },
  {
   "cell_type": "code",
   "execution_count": 3,
   "metadata": {},
   "outputs": [
    {
     "name": "stdout",
     "output_type": "stream",
     "text": [
      "['Дата', 'Создатель записи', 'Запись', 'Ссылка', 'Охват подписчиков', 'Виральный охват', 'Рекламный охват', 'Полный охват', 'Нравится', 'Поделились', 'Комментариев', 'Скрыли запись', 'Жалобы', 'Скрыли все записи', 'Переходы в сообщество', 'Подписались на страницу', 'Переходы по ссылке']\n"
     ]
    }
   ],
   "source": [
    "import csv\n",
    "\n",
    "with open(\"vk_group_reach.stat\",'r',encoding='utf8') as file:\n",
    "        stat_vk = csv.reader(file)\n",
    "        for row in stat_vk:\n",
    "            print(row)\n",
    "            break"
   ]
  },
  {
   "cell_type": "code",
   "execution_count": 4,
   "metadata": {},
   "outputs": [
    {
     "name": "stdout",
     "output_type": "stream",
     "text": [
      "[2, 0, 0, 0, 0, 0, 0, 0, 0, 0, 2, 0, 1, 1, 0, 0, 4, 1, 0, 1, 1, 0, 0, 0, 0, 0, 0, 0, 0, 0, 0, 0, 1, 0, 0, 0, 0, 0]\n"
     ]
    }
   ],
   "source": [
    "import csv\n",
    "\n",
    "count_comments = list()\n",
    "\n",
    "with open(\"vk_group_reach.stat\",'r',encoding='utf8') as file:\n",
    "        stat_vk = csv.reader(file)\n",
    "        for row in stat_vk:\n",
    "            if row[0]== \"Дата\":\n",
    "                continue\n",
    "            else:\n",
    "                count_comments.append(int(row[10]))\n",
    "print(count_comments)\n"
   ]
  },
  {
   "cell_type": "code",
   "execution_count": 24,
   "metadata": {},
   "outputs": [
    {
     "name": "stdout",
     "output_type": "stream",
     "text": [
      "14 4\n"
     ]
    }
   ],
   "source": [
    "print(sum(count_comments),max(count_comments))\n"
   ]
  },
  {
   "cell_type": "code",
   "execution_count": 18,
   "metadata": {},
   "outputs": [
    {
     "name": "stdout",
     "output_type": "stream",
     "text": [
      "0 Дата\n",
      "1 Создатель записи\n",
      "2 Запись\n",
      "3 Ссылка\n",
      "4 Охват подписчиков\n",
      "5 Виральный охват\n",
      "6 Рекламный охват\n",
      "7 Полный охват\n",
      "8 Нравится\n",
      "9 Поделились\n",
      "10 Комментариев\n",
      "11 Скрыли запись\n",
      "12 Жалобы\n",
      "13 Скрыли все записи\n",
      "14 Переходы в сообщество\n",
      "15 Подписались на страницу\n",
      "16 Переходы по ссылке\n"
     ]
    }
   ],
   "source": [
    "import csv\n",
    "\n",
    "with open(\"vk_group_reach.stat\",'r',encoding='utf8') as file:\n",
    "        stat_vk = csv.reader(file)\n",
    "        for row in stat_vk:\n",
    "            for i, j in enumerate(row):\n",
    "                print(i, j)\n",
    "            break"
   ]
  },
  {
   "cell_type": "code",
   "execution_count": 20,
   "metadata": {},
   "outputs": [
    {
     "name": "stdout",
     "output_type": "stream",
     "text": [
      "['2020-02-08 14:20', 'Дима Федоров (https://vk.com/id543042642)', 'Вопрос возник в связи с началом нов...', 'https://vk.com/wall-181854671_54', '108', '137', '0', '228', '1', '0', '2', '0', '0', '0', '5', '0', '1']\n"
     ]
    }
   ],
   "source": [
    "import csv\n",
    "\n",
    "with open(\"vk_group_reach.stat\",'r',encoding='utf8') as file:\n",
    "        stat_vk = csv.reader(file)\n",
    "        for row in stat_vk:\n",
    "            if row[0]== \"Дата\":\n",
    "                continue\n",
    "            else:\n",
    "                print(row)\n",
    "                break"
   ]
  },
  {
   "cell_type": "code",
   "execution_count": null,
   "metadata": {},
   "outputs": [],
   "source": []
  }
 ],
 "metadata": {
  "kernelspec": {
   "display_name": "Python 3",
   "language": "python",
   "name": "python3"
  },
  "language_info": {
   "codemirror_mode": {
    "name": "ipython",
    "version": 3
   },
   "file_extension": ".py",
   "mimetype": "text/x-python",
   "name": "python",
   "nbconvert_exporter": "python",
   "pygments_lexer": "ipython3",
   "version": "3.7.4"
  }
 },
 "nbformat": 4,
 "nbformat_minor": 4
}
