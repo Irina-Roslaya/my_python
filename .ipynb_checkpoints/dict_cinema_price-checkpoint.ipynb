{
 "cells": [
  {
   "cell_type": "code",
   "execution_count": 5,
   "metadata": {},
   "outputs": [
    {
     "name": "stdin",
     "output_type": "stream",
     "text": [
      "Выберите фильм:  Паразиты\n",
      "Выберите дату (сегодня, завтра):  завтра\n",
      "Выберите время:  12\n",
      "Укажите количество билетов:  3\n"
     ]
    },
    {
     "name": "stdout",
     "output_type": "stream",
     "text": [
      "237.5\n"
     ]
    }
   ],
   "source": [
    "def cinema_price():\n",
    "    film = input('Выберите фильм: ')\n",
    "    date = input('Выберите дату (сегодня, завтра): ')\n",
    "    time = int(input('Выберите время: '))\n",
    "    amount = int(input('Укажите количество билетов: '))\n",
    "    cinema={ \"Паразиты\":{12:250,16:350,20:450},\"1917\":{10:250,13:350,16:350},\"Соник в кино\":{10:350,14:450,18:450}}\n",
    "    price = cinema[film][int(time)]\n",
    "    if date == 'завтра' and amount < 20:\n",
    "        discount = 0.95\n",
    "    elif amount  >= 20:\n",
    "        discount = 0.80 \n",
    "    else:\n",
    "        discount = 1\n",
    "\n",
    "    total_price = price * discount \n",
    "\n",
    "    return total_price\n",
    "\n",
    "print(cinema_price())\n",
    "        "
   ]
  }
 ],
 "metadata": {
  "kernelspec": {
   "display_name": "Python 3",
   "language": "python",
   "name": "python3"
  },
  "language_info": {
   "codemirror_mode": {
    "name": "ipython",
    "version": 3
   },
   "file_extension": ".py",
   "mimetype": "text/x-python",
   "name": "python",
   "nbconvert_exporter": "python",
   "pygments_lexer": "ipython3",
   "version": "3.7.4"
  }
 },
 "nbformat": 4,
 "nbformat_minor": 4
}
