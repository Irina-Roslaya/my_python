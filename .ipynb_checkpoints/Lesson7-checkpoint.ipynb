{
 "cells": [
  {
   "cell_type": "code",
   "execution_count": 5,
   "metadata": {},
   "outputs": [],
   "source": [
    "class Student():\n",
    "    pass"
   ]
  },
  {
   "cell_type": "code",
   "execution_count": 6,
   "metadata": {},
   "outputs": [],
   "source": [
    "st1=Student()"
   ]
  },
  {
   "cell_type": "code",
   "execution_count": 7,
   "metadata": {},
   "outputs": [],
   "source": [
    "st1.name='Иван'"
   ]
  },
  {
   "cell_type": "code",
   "execution_count": 8,
   "metadata": {},
   "outputs": [
    {
     "data": {
      "text/plain": [
       "'Иван'"
      ]
     },
     "execution_count": 8,
     "metadata": {},
     "output_type": "execute_result"
    }
   ],
   "source": [
    "st1.name"
   ]
  },
  {
   "cell_type": "code",
   "execution_count": 9,
   "metadata": {},
   "outputs": [],
   "source": [
    "st1.age='20'"
   ]
  },
  {
   "cell_type": "code",
   "execution_count": 10,
   "metadata": {},
   "outputs": [
    {
     "data": {
      "text/plain": [
       "'20'"
      ]
     },
     "execution_count": 10,
     "metadata": {},
     "output_type": "execute_result"
    }
   ],
   "source": [
    "st1.age"
   ]
  },
  {
   "cell_type": "code",
   "execution_count": 13,
   "metadata": {},
   "outputs": [],
   "source": [
    "class Student:\n",
    "    def eat(self):\n",
    "        print(\"Студент идет обедать\")"
   ]
  },
  {
   "cell_type": "code",
   "execution_count": 14,
   "metadata": {},
   "outputs": [],
   "source": [
    "st2=Student()"
   ]
  },
  {
   "cell_type": "code",
   "execution_count": 15,
   "metadata": {},
   "outputs": [
    {
     "name": "stdout",
     "output_type": "stream",
     "text": [
      "Студент идет обедать\n"
     ]
    }
   ],
   "source": [
    "st2.eat()"
   ]
  },
  {
   "cell_type": "code",
   "execution_count": 16,
   "metadata": {},
   "outputs": [],
   "source": [
    "class Student:\n",
    "    def __init__(self,name):\n",
    "        self.name=name\n",
    "    def say(self):\n",
    "        print('Меня зовут',self.name)"
   ]
  },
  {
   "cell_type": "code",
   "execution_count": 19,
   "metadata": {},
   "outputs": [
    {
     "name": "stdout",
     "output_type": "stream",
     "text": [
      "Меня зовут Коля\n"
     ]
    }
   ],
   "source": [
    "st3=Student(\"Коля\")\n",
    "st3.say()"
   ]
  },
  {
   "cell_type": "code",
   "execution_count": 21,
   "metadata": {},
   "outputs": [
    {
     "name": "stdout",
     "output_type": "stream",
     "text": [
      "Меня зовут Коля\n"
     ]
    }
   ],
   "source": [
    "Student.say(st3)"
   ]
  },
  {
   "cell_type": "code",
   "execution_count": 1,
   "metadata": {},
   "outputs": [
    {
     "name": "stdout",
     "output_type": "stream",
     "text": [
      "Тузик\n",
      "Шарик\n"
     ]
    }
   ],
   "source": [
    "# dog3.py\n",
    "class Dog:    \n",
    "    # Конструктор\n",
    "    # Вызывается в момент создания объекта этого типа\n",
    "    def __init__(self, new_name='Собака без имени'):        \n",
    "        self._name = new_name\n",
    "    # Можем в любой момент вызвать этот метод и изменить имя:\n",
    "    def set_name(self, new_name):\n",
    "        self._name = new_name\n",
    "    # Можем в любой момент вызвать этот метод и узнать имя:\n",
    "    def get_name(self):\n",
    "        return self._name\n",
    "\n",
    "# Создаем конкретную собаку\n",
    "my_dog = Dog(\"Тузик\")\n",
    "# Вывести имя собаки, убедиться, что оно было установлено\n",
    "print(my_dog.get_name())\n",
    "# Изменили имя собаки\n",
    "my_dog.set_name(\"Шарик\")\n",
    "# Посмотрели изменения\n",
    "print(my_dog.get_name())"
   ]
  },
  {
   "cell_type": "code",
   "execution_count": null,
   "metadata": {},
   "outputs": [],
   "source": [
    "# пример создания объекта типа Cat\n",
    "my_сat1 = Cat()\n",
    "my_сat1.set_name(\"Котик\")\n",
    "my_сat1.gaming()\n",
    "my_сat1.meow()\n",
    "my_сat1.eating()\n",
    "\n",
    "'''\n",
    "Результат выполнения:\n",
    "Родилась новая кошка... Кошка без имени\n",
    "Нет сил играть...\n",
    "Кошка говорит: меня зовут Котик\n",
    "Кошка проголодалась...\n",
    "Кошка ест...\n",
    "'''"
   ]
  },
  {
   "cell_type": "code",
   "execution_count": 19,
   "metadata": {},
   "outputs": [],
   "source": [
    "class Cat():\n",
    "    pass\n",
    "class Cat:    \n",
    "    def __init__(self, new_name='Кошка без имени'):        \n",
    "        self._name = new_name\n",
    "        self.__eat=1\n",
    "    def set_name(self, new_name):\n",
    "        self.name = new_name\n",
    "    def eating(self):\n",
    "        self.__eat+=1\n",
    "    def gaming(self):\n",
    "        if self.__eat==0:\n",
    "            print(\"Жрать хочу!\")\n",
    "        else:\n",
    "            print(\"Я играю!\")\n",
    "            self.__eat-=1\n",
    "    def meow(self):\n",
    "        if self.eat==0:\n",
    "            print(\"Дай едуууу!\")"
   ]
  },
  {
   "cell_type": "code",
   "execution_count": 20,
   "metadata": {},
   "outputs": [
    {
     "name": "stdout",
     "output_type": "stream",
     "text": [
      "Я играю!\n",
      "Жрать хочу!\n"
     ]
    }
   ],
   "source": [
    "cat=Cat('Пес')\n",
    "cat.gaming()\n",
    "cat.gaming()"
   ]
  },
  {
   "cell_type": "code",
   "execution_count": 62,
   "metadata": {},
   "outputs": [],
   "source": [
    "class Point: \n",
    "    def __init__(self,x=0,y=0):\n",
    "        self.__x = x\n",
    "        self.__y = y\n",
    "    def set_point(self,x,y):\n",
    "        self.__x=x\n",
    "        self.__y=y\n",
    "    def get_point(self):\n",
    "        return(self.__x,self.__y)\n"
   ]
  },
  {
   "cell_type": "code",
   "execution_count": 63,
   "metadata": {},
   "outputs": [
    {
     "data": {
      "text/plain": [
       "(4, 6)"
      ]
     },
     "execution_count": 63,
     "metadata": {},
     "output_type": "execute_result"
    }
   ],
   "source": [
    "pt1 = Point()\n",
    "pt2 = Point(3, 5)\n",
    "pt2.get_point()\n",
    "pt1.set_point(4, 6)\n",
    "pt1.get_point()"
   ]
  },
  {
   "cell_type": "code",
   "execution_count": 57,
   "metadata": {},
   "outputs": [],
   "source": [
    "class Point:\n",
    "    def __init__(self, x = 0, y = 0):\n",
    "        self.__x = x\n",
    "        self.__y = y\n",
    "    def set_point(self, x, y):\n",
    "        self.__x = x\n",
    "        self.__y = y\n",
    "    def get(self):\n",
    "        return (self.__x,self.__y)\n",
    "    def __add__(self, other_points):\n",
    "        return Point(self.__x + other_points.__x,self.__y + other_points.__y)\n"
   ]
  },
  {
   "cell_type": "code",
   "execution_count": 59,
   "metadata": {},
   "outputs": [
    {
     "data": {
      "text/plain": [
       "(2, 5)"
      ]
     },
     "execution_count": 59,
     "metadata": {},
     "output_type": "execute_result"
    }
   ],
   "source": [
    "pt1=Point(1,3)\n",
    "pt2=Point(1,2)\n",
    "pt3=pt1 + pt2\n",
    "pt3.get()"
   ]
  },
  {
   "cell_type": "code",
   "execution_count": null,
   "metadata": {},
   "outputs": [],
   "source": []
  }
 ],
 "metadata": {
  "kernelspec": {
   "display_name": "Python 3",
   "language": "python",
   "name": "python3"
  },
  "language_info": {
   "codemirror_mode": {
    "name": "ipython",
    "version": 3
   },
   "file_extension": ".py",
   "mimetype": "text/x-python",
   "name": "python",
   "nbconvert_exporter": "python",
   "pygments_lexer": "ipython3",
   "version": "3.7.4"
  }
 },
 "nbformat": 4,
 "nbformat_minor": 4
}
