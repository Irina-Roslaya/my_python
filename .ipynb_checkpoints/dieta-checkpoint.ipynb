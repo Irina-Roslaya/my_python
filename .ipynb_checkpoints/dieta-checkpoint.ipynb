{
 "cells": [
  {
   "cell_type": "code",
   "execution_count": 61,
   "metadata": {},
   "outputs": [
    {
     "name": "stdout",
     "output_type": "stream",
     "text": [
      "   1\t   2\t   3\t   4\t   5\t   6\n",
      "78.5\t77.0\t75.5\t74.0\t72.5\t71.0\n"
     ]
    }
   ],
   "source": [
    "i=1\n",
    "list1=[]\n",
    "startmas=80\n",
    "while i!=7:\n",
    "    list2=[]\n",
    "    list2.append(i)\n",
    "    list2.append(startmas-i*1.5)\n",
    "    list2=list(map(str, list2))\n",
    "    list1.append(list2)\n",
    "    i+=1\n",
    "def printTable(data):\n",
    "    cols = len(data)\n",
    "    rows = len(data[0])\n",
    "    col_width = [max(map(len, col)) for col in data]\n",
    "    templates = ['{:>%d}' % width for width in col_width]\n",
    "\n",
    "    for row in range(rows):\n",
    "        print('\\t'.join([templates[col].format(data[col][row]) for col in range(cols)]))\n",
    "\n",
    "printTable(list1)"
   ]
  },
  {
   "cell_type": "code",
   "execution_count": null,
   "metadata": {},
   "outputs": [],
   "source": []
  }
 ],
 "metadata": {
  "kernelspec": {
   "display_name": "Python 3",
   "language": "python",
   "name": "python3"
  },
  "language_info": {
   "codemirror_mode": {
    "name": "ipython",
    "version": 3
   },
   "file_extension": ".py",
   "mimetype": "text/x-python",
   "name": "python",
   "nbconvert_exporter": "python",
   "pygments_lexer": "ipython3",
   "version": "3.7.4"
  }
 },
 "nbformat": 4,
 "nbformat_minor": 4
}
