{
 "cells": [
  {
   "cell_type": "code",
   "execution_count": 1,
   "metadata": {},
   "outputs": [
    {
     "name": "stdout",
     "output_type": "stream",
     "text": [
      "{'a': 7.450580596923828e-09, 'b': 3.725290298461914e-09, 'c': 3.166496753692627e-09}\n"
     ]
    }
   ],
   "source": [
    "links=[(\"a\",\"b\"),(\"a\",\"c\"),(\"b\",\"c\")]\n",
    "k=1\n",
    "page=[\"a\",\"b\",\"c\"]\n",
    "rank={\"a\":1,\"b\":1,\"c\":1}\n",
    "while k!=10:\n",
    "    for i in links:\n",
    "        for j in i:\n",
    "            rank[j]=rank[page[links.index(i)]]/len(i)\n",
    "        rank[page[links.index(i)]]*=0.85\n",
    "    k+=1\n",
    "print(rank)\n",
    "            "
   ]
  },
  {
   "cell_type": "code",
   "execution_count": null,
   "metadata": {},
   "outputs": [],
   "source": []
  }
 ],
 "metadata": {
  "kernelspec": {
   "display_name": "Python 3",
   "language": "python",
   "name": "python3"
  },
  "language_info": {
   "codemirror_mode": {
    "name": "ipython",
    "version": 3
   },
   "file_extension": ".py",
   "mimetype": "text/x-python",
   "name": "python",
   "nbconvert_exporter": "python",
   "pygments_lexer": "ipython3",
   "version": "3.7.4"
  }
 },
 "nbformat": 4,
 "nbformat_minor": 4
}
