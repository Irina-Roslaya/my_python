{
 "cells": [
  {
   "cell_type": "code",
   "execution_count": 40,
   "metadata": {},
   "outputs": [],
   "source": [
    "s = '''В разные эпохи и у разных народов число Пи имело разное значение.\n",
    "Например, в Древнем Египте оно равнялось 3.1604 у индусов оно приобрело\n",
    "значение 3.162 китайцы пользовались числом, равным 3.1459\n",
    "Буквенное обозначение число Пи получило только в 1706 году – оно происходит\n",
    "от начальных букв двух греческих слов, означающих окружность и периметр.\n",
    "Буквой π число наделил математик Джонс, а прочно вошла в математику она\n",
    "уже в 1737 году.'''"
   ]
  },
  {
   "cell_type": "code",
   "execution_count": 41,
   "metadata": {},
   "outputs": [
    {
     "name": "stdout",
     "output_type": "stream",
     "text": [
      "[3, 1, 6, 0, 4, 3, 1, 6, 2, 3, 1, 4, 5, 9, 1, 7, 0, 6, 1, 7, 3, 7]\n",
      "22\n",
      "80\n",
      "9\n"
     ]
    }
   ],
   "source": [
    "list1=[int(i) for i in s if i.isdigit()]\n",
    "print(list1)\n",
    "print(len(list1))\n",
    "print(sum(list1))\n",
    "print(max(list1))"
   ]
  },
  {
   "cell_type": "code",
   "execution_count": null,
   "metadata": {},
   "outputs": [],
   "source": []
  }
 ],
 "metadata": {
  "kernelspec": {
   "display_name": "Python 3",
   "language": "python",
   "name": "python3"
  },
  "language_info": {
   "codemirror_mode": {
    "name": "ipython",
    "version": 3
   },
   "file_extension": ".py",
   "mimetype": "text/x-python",
   "name": "python",
   "nbconvert_exporter": "python",
   "pygments_lexer": "ipython3",
   "version": "3.7.4"
  }
 },
 "nbformat": 4,
 "nbformat_minor": 4
}
