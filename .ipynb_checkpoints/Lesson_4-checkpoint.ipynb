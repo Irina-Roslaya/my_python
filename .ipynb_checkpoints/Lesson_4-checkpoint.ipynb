{
 "cells": [
  {
   "cell_type": "code",
   "execution_count": 1,
   "metadata": {},
   "outputs": [
    {
     "data": {
      "text/plain": [
       "IPython.utils.text.SList"
      ]
     },
     "execution_count": 1,
     "metadata": {},
     "output_type": "execute_result"
    }
   ],
   "source": [
    "a = !dir\n",
    "type(a)"
   ]
  },
  {
   "cell_type": "code",
   "execution_count": 2,
   "metadata": {},
   "outputs": [
    {
     "data": {
      "text/plain": [
       "[' Том в устройстве C не имеет метки.',\n",
       " ' Серийный номер тома: CA12-4961',\n",
       " '',\n",
       " ' Содержимое папки C:\\\\Users\\\\Mi',\n",
       " '',\n",
       " '02.03.2020  11:08    <DIR>          .',\n",
       " '02.03.2020  11:08    <DIR>          ..',\n",
       " '29.02.2020  18:30    <DIR>          .anaconda',\n",
       " '29.02.2020  18:15             2\\xa0568 .bash_history',\n",
       " '02.03.2020  11:09    <DIR>          .conda',\n",
       " '02.03.2020  11:06                43 .condarc',\n",
       " '03.02.2020  21:55    <DIR>          .idlerc',\n",
       " '02.03.2020  10:56    <DIR>          .ipynb_checkpoints',\n",
       " '11.02.2020  12:49    <DIR>          .ipython',\n",
       " '29.02.2020  18:31    <DIR>          .jupyter',\n",
       " '04.02.2020  17:43    <DIR>          .PyCharmCE2019.3',\n",
       " '02.03.2020  11:05    <DIR>          .vscode',\n",
       " '16.02.2020  21:40    <DIR>          3D Objects',\n",
       " '29.02.2020  18:25    <DIR>          Anaconda3',\n",
       " '16.02.2020  21:40    <DIR>          Contacts',\n",
       " '26.09.2019  20:01    <DIR>          Creative Cloud Files',\n",
       " '02.03.2020  11:03    <DIR>          Desktop',\n",
       " '29.02.2020  18:24    <DIR>          Documents',\n",
       " '01.03.2020  13:59    <DIR>          Downloads',\n",
       " '16.02.2020  21:40    <DIR>          Favorites',\n",
       " '02.03.2020  11:08               568 Lesson_4.ipynb',\n",
       " '16.02.2020  21:40    <DIR>          Links',\n",
       " '16.02.2020  21:40    <DIR>          Music',\n",
       " '15.02.2020  18:49    <DIR>          my_project',\n",
       " '29.02.2020  11:18    <DIR>          OneDrive',\n",
       " '16.02.2020  21:40    <DIR>          Pictures',\n",
       " '04.02.2020  17:52    <DIR>          PycharmProjects',\n",
       " '25.02.2020  13:20             2\\xa0277 Rinuta.ipynb',\n",
       " '25.02.2020  13:29             1\\xa0217 runa.ipynb',\n",
       " '16.02.2020  21:40    <DIR>          Saved Games',\n",
       " '16.02.2020  21:40    <DIR>          Searches',\n",
       " '11.02.2020  12:49                72 Untitled.ipynb',\n",
       " '25.02.2020  13:16               819 Untitled1.ipynb',\n",
       " '25.02.2020  13:29             1\\xa0217 Untitled2.ipynb',\n",
       " '16.02.2020  21:40    <DIR>          Videos',\n",
       " '               8 файлов          8\\xa0781 байт',\n",
       " '              27 папок  161\\xa0592\\xa0119\\xa0296 байт свободно']"
      ]
     },
     "execution_count": 2,
     "metadata": {},
     "output_type": "execute_result"
    }
   ],
   "source": [
    "list(a)"
   ]
  },
  {
   "cell_type": "code",
   "execution_count": 3,
   "metadata": {},
   "outputs": [
    {
     "name": "stdout",
     "output_type": "stream",
     "text": [
      "Help on built-in function len in module builtins:\n",
      "\n",
      "len(obj, /)\n",
      "    Return the number of items in a container.\n",
      "\n"
     ]
    }
   ],
   "source": [
    "help(len)"
   ]
  },
  {
   "cell_type": "code",
   "execution_count": 4,
   "metadata": {},
   "outputs": [
    {
     "data": {
      "text/plain": [
       "\u001b[1;31mSignature:\u001b[0m \u001b[0mlen\u001b[0m\u001b[1;33m(\u001b[0m\u001b[0mobj\u001b[0m\u001b[1;33m,\u001b[0m \u001b[1;33m/\u001b[0m\u001b[1;33m)\u001b[0m\u001b[1;33m\u001b[0m\u001b[1;33m\u001b[0m\u001b[0m\n",
       "\u001b[1;31mDocstring:\u001b[0m Return the number of items in a container.\n",
       "\u001b[1;31mType:\u001b[0m      builtin_function_or_method\n"
      ]
     },
     "metadata": {},
     "output_type": "display_data"
    }
   ],
   "source": [
    "len?"
   ]
  },
  {
   "cell_type": "code",
   "execution_count": 5,
   "metadata": {},
   "outputs": [
    {
     "data": {
      "text/plain": [
       "4712121211"
      ]
     },
     "execution_count": 5,
     "metadata": {},
     "output_type": "execute_result"
    }
   ],
   "source": [
    "4646464646+65656565"
   ]
  },
  {
   "cell_type": "markdown",
   "metadata": {},
   "source": [
    "Комментарий пишется с помощью Markdown"
   ]
  },
  {
   "cell_type": "markdown",
   "metadata": {},
   "source": [
    "try.jupyter.org (Markdown,Latex)"
   ]
  },
  {
   "cell_type": "code",
   "execution_count": 6,
   "metadata": {},
   "outputs": [
    {
     "data": {
      "text/plain": [
       "1690"
      ]
     },
     "execution_count": 6,
     "metadata": {},
     "output_type": "execute_result"
    }
   ],
   "source": [
    "1234+456"
   ]
  },
  {
   "cell_type": "markdown",
   "metadata": {},
   "source": [
    "Alt + Enter - запуск кода"
   ]
  },
  {
   "cell_type": "code",
   "execution_count": 7,
   "metadata": {},
   "outputs": [],
   "source": [
    "%run my_prog.py"
   ]
  },
  {
   "cell_type": "code",
   "execution_count": 8,
   "metadata": {},
   "outputs": [],
   "source": [
    "%run my_prog.py\n"
   ]
  },
  {
   "cell_type": "code",
   "execution_count": 9,
   "metadata": {},
   "outputs": [
    {
     "name": "stdout",
     "output_type": "stream",
     "text": [
      "3.141592653589793\n"
     ]
    }
   ],
   "source": [
    "%run my_prog.py"
   ]
  },
  {
   "cell_type": "code",
   "execution_count": 10,
   "metadata": {},
   "outputs": [
    {
     "data": {
      "text/plain": [
       "True"
      ]
     },
     "execution_count": 10,
     "metadata": {},
     "output_type": "execute_result"
    }
   ],
   "source": [
    "any([0,None,1])"
   ]
  },
  {
   "cell_type": "code",
   "execution_count": 11,
   "metadata": {},
   "outputs": [
    {
     "data": {
      "text/plain": [
       "False"
      ]
     },
     "execution_count": 11,
     "metadata": {},
     "output_type": "execute_result"
    }
   ],
   "source": [
    "all([0,None,1])"
   ]
  },
  {
   "cell_type": "code",
   "execution_count": 12,
   "metadata": {},
   "outputs": [
    {
     "name": "stdout",
     "output_type": "stream",
     "text": [
      "redgreenblue\n",
      "redgreenblue\n",
      "red***green***blue\n"
     ]
    }
   ],
   "source": [
    "a=['red','green','blue']\n",
    "print(''.join(a))\n",
    "print(\"\".join(a))\n",
    "print('***'.join(a))"
   ]
  },
  {
   "cell_type": "code",
   "execution_count": 13,
   "metadata": {},
   "outputs": [
    {
     "data": {
      "text/plain": [
       "['7',\n",
       " '3',\n",
       " '4',\n",
       " '8',\n",
       " '5',\n",
       " '3',\n",
       " '8',\n",
       " '4',\n",
       " '7',\n",
       " '5',\n",
       " '3',\n",
       " '8',\n",
       " '4',\n",
       " '6',\n",
       " '5',\n",
       " '3',\n",
       " '8',\n",
       " '4',\n",
       " '6',\n",
       " '5']"
      ]
     },
     "execution_count": 13,
     "metadata": {},
     "output_type": "execute_result"
    }
   ],
   "source": [
    "n=73485384753846538465\n",
    "list(str(n))"
   ]
  },
  {
   "cell_type": "code",
   "execution_count": 14,
   "metadata": {},
   "outputs": [
    {
     "data": {
      "text/plain": [
       "['d', 'a', 'dd', 'dd', 'gg', 'rr', 'tt', 'yy', 'rr', 'ee']"
      ]
     },
     "execution_count": 14,
     "metadata": {},
     "output_type": "execute_result"
    }
   ],
   "source": [
    "s='d a dd dd gg rr tt yy rr ee'.split()\n",
    "s"
   ]
  },
  {
   "cell_type": "code",
   "execution_count": 15,
   "metadata": {},
   "outputs": [
    {
     "data": {
      "text/plain": [
       "['346565657', '65575757', '9797985764534']"
      ]
     },
     "execution_count": 15,
     "metadata": {},
     "output_type": "execute_result"
    }
   ],
   "source": [
    "\"346565657;65575757;9797985764534\".split(\";\")"
   ]
  },
  {
   "cell_type": "code",
   "execution_count": 17,
   "metadata": {},
   "outputs": [
    {
     "data": {
      "text/plain": [
       "['hello', 'world']"
      ]
     },
     "execution_count": 17,
     "metadata": {},
     "output_type": "execute_result"
    }
   ],
   "source": [
    "\"hello\\nworld\".splitlines()"
   ]
  },
  {
   "cell_type": "code",
   "execution_count": 18,
   "metadata": {},
   "outputs": [],
   "source": [
    "import matplotlib"
   ]
  },
  {
   "cell_type": "code",
   "execution_count": 19,
   "metadata": {},
   "outputs": [],
   "source": [
    "import matplotlib.pyplot as plt"
   ]
  },
  {
   "cell_type": "code",
   "execution_count": 20,
   "metadata": {},
   "outputs": [],
   "source": [
    "import matplotlib.pyplot as plt\n"
   ]
  },
  {
   "cell_type": "code",
   "execution_count": null,
   "metadata": {},
   "outputs": [],
   "source": []
  }
 ],
 "metadata": {
  "kernelspec": {
   "display_name": "Python 3",
   "language": "python",
   "name": "python3"
  },
  "language_info": {
   "codemirror_mode": {
    "name": "ipython",
    "version": 3
   },
   "file_extension": ".py",
   "mimetype": "text/x-python",
   "name": "python",
   "nbconvert_exporter": "python",
   "pygments_lexer": "ipython3",
   "version": "3.7.4"
  }
 },
 "nbformat": 4,
 "nbformat_minor": 4
}
