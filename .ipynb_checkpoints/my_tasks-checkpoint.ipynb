{
 "cells": [
  {
   "cell_type": "code",
   "execution_count": 2,
   "metadata": {},
   "outputs": [
    {
     "name": "stdout",
     "output_type": "stream",
     "text": [
      "Простой todo: \n",
      " 1. Добавить задачу. \n",
      " 2. Вывести список задач. \n",
      " 3. Выход.\n"
     ]
    },
    {
     "name": "stdin",
     "output_type": "stream",
     "text": [
      "Укажите число:  1\n",
      "Сформулируйте задачу:  купить хлеб\n",
      "Добавьте категорию к задаче:  купить\n",
      "Добавьте время к задаче:  сегодня\n"
     ]
    },
    {
     "name": "stdout",
     "output_type": "stream",
     "text": [
      "Простой todo: \n",
      " 1. Добавить задачу. \n",
      " 2. Вывести список задач. \n",
      " 3. Выход.\n"
     ]
    },
    {
     "name": "stdin",
     "output_type": "stream",
     "text": [
      "Укажите число:  2\n"
     ]
    },
    {
     "name": "stdout",
     "output_type": "stream",
     "text": [
      "купить хлеб\n",
      "купить\n",
      "сегодня\n",
      "Простой todo: \n",
      " 1. Добавить задачу. \n",
      " 2. Вывести список задач. \n",
      " 3. Выход.\n"
     ]
    },
    {
     "name": "stdin",
     "output_type": "stream",
     "text": [
      "Укажите число:  1\n",
      "Сформулируйте задачу:  купить молоко\n",
      "Добавьте категорию к задаче:  купить\n",
      "Добавьте время к задаче:  завтра\n"
     ]
    },
    {
     "name": "stdout",
     "output_type": "stream",
     "text": [
      "Простой todo: \n",
      " 1. Добавить задачу. \n",
      " 2. Вывести список задач. \n",
      " 3. Выход.\n"
     ]
    },
    {
     "name": "stdin",
     "output_type": "stream",
     "text": [
      "Укажите число:  2\n"
     ]
    },
    {
     "name": "stdout",
     "output_type": "stream",
     "text": [
      "купить хлеб\n",
      "купить\n",
      "сегодня\n",
      "купить молоко\n",
      "купить\n",
      "завтра\n",
      "Простой todo: \n",
      " 1. Добавить задачу. \n",
      " 2. Вывести список задач. \n",
      " 3. Выход.\n"
     ]
    },
    {
     "name": "stdin",
     "output_type": "stream",
     "text": [
      "Укажите число:  3\n"
     ]
    }
   ],
   "source": [
    "listt=[]\n",
    "while True:\n",
    "    print(\"Простой todo:\" , '\\n' , \"1. Добавить задачу.\" , '\\n' , \"2. Вывести список задач.\" , '\\n' , \"3. Выход.\")\n",
    "    inp=int(input(\"Укажите число: \"))\n",
    "    if inp==1:\n",
    "        memo=input(\"Сформулируйте задачу: \")\n",
    "        defen=input(\"Добавьте категорию к задаче: \")\n",
    "        time=input(\"Добавьте время к задаче: \")\n",
    "        listt.append(memo)\n",
    "        listt.append(defen)\n",
    "        listt.append(time)\n",
    "    if inp==2:\n",
    "        for i in listt:\n",
    "            print(i)\n",
    "    if inp == 3:\n",
    "        break"
   ]
  },
  {
   "cell_type": "code",
   "execution_count": null,
   "metadata": {},
   "outputs": [],
   "source": []
  }
 ],
 "metadata": {
  "kernelspec": {
   "display_name": "Python 3",
   "language": "python",
   "name": "python3"
  },
  "language_info": {
   "codemirror_mode": {
    "name": "ipython",
    "version": 3
   },
   "file_extension": ".py",
   "mimetype": "text/x-python",
   "name": "python",
   "nbconvert_exporter": "python",
   "pygments_lexer": "ipython3",
   "version": "3.7.4"
  }
 },
 "nbformat": 4,
 "nbformat_minor": 4
}
