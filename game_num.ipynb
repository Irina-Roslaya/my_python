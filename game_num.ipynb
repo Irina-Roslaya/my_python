{
 "cells": [
  {
   "cell_type": "code",
   "execution_count": 5,
   "metadata": {},
   "outputs": [
    {
     "name": "stdin",
     "output_type": "stream",
     "text": [
      "Введите число от 1 до 4:  2\n"
     ]
    },
    {
     "name": "stdout",
     "output_type": "stream",
     "text": [
      "Попробуйте еще раз, введенное число меньше загаданного\n"
     ]
    },
    {
     "name": "stdin",
     "output_type": "stream",
     "text": [
      "Введите число от 1 до 4:  2\n"
     ]
    },
    {
     "name": "stdout",
     "output_type": "stream",
     "text": [
      "Упс, у вас закончились попытки\n"
     ]
    }
   ],
   "source": [
    "import random\n",
    "i=random.randint(1,4)\n",
    "ll=0\n",
    "while True:\n",
    "    k=int(input('Введите число от 1 до 4: '))\n",
    "    if k==i:\n",
    "        print('Победа')\n",
    "        break\n",
    "    else:\n",
    "        ll += 1\n",
    "        if ll == 2:\n",
    "            print('Упс, у вас закончились попытки')\n",
    "            break\n",
    "        elif k<i:\n",
    "            print('Попробуйте еще раз, введенное число меньше загаданного')\n",
    "        else:\n",
    "            print('Попробуйте еще раз, введенное число больше загаданного')\n",
    "\n",
    "    "
   ]
  },
  {
   "cell_type": "code",
   "execution_count": null,
   "metadata": {},
   "outputs": [],
   "source": []
  }
 ],
 "metadata": {
  "kernelspec": {
   "display_name": "Python 3",
   "language": "python",
   "name": "python3"
  },
  "language_info": {
   "codemirror_mode": {
    "name": "ipython",
    "version": 3
   },
   "file_extension": ".py",
   "mimetype": "text/x-python",
   "name": "python",
   "nbconvert_exporter": "python",
   "pygments_lexer": "ipython3",
   "version": "3.7.4"
  }
 },
 "nbformat": 4,
 "nbformat_minor": 4
}
