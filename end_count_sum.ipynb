{
 "cells": [
  {
   "cell_type": "code",
   "execution_count": 41,
   "metadata": {},
   "outputs": [
    {
     "name": "stdin",
     "output_type": "stream",
     "text": [
      "Введите число:  1\n",
      "Введите число:  4\n",
      "Введите число:  5\n",
      "Введите число:  6\n",
      "Введите число:  стоп\n"
     ]
    },
    {
     "name": "stdout",
     "output_type": "stream",
     "text": [
      "16\n"
     ]
    }
   ],
   "source": [
    "k1=[]\n",
    "while True:\n",
    "    t=0\n",
    "    k1.append((input('Введите число: ')).lower())\n",
    "    for i in k1:\n",
    "        if i==\"стоп\":\n",
    "            del k1[-1]\n",
    "            t=1;\n",
    "            break\n",
    "    if t==1:\n",
    "        break\n",
    "sum=0\n",
    "k1=list(map(int,k1))\n",
    "for i in k1:\n",
    "    sum+=i\n",
    "print(sum)"
   ]
  },
  {
   "cell_type": "code",
   "execution_count": null,
   "metadata": {},
   "outputs": [],
   "source": []
  }
 ],
 "metadata": {
  "kernelspec": {
   "display_name": "Python 3",
   "language": "python",
   "name": "python3"
  },
  "language_info": {
   "codemirror_mode": {
    "name": "ipython",
    "version": 3
   },
   "file_extension": ".py",
   "mimetype": "text/x-python",
   "name": "python",
   "nbconvert_exporter": "python",
   "pygments_lexer": "ipython3",
   "version": "3.7.4"
  }
 },
 "nbformat": 4,
 "nbformat_minor": 4
}
